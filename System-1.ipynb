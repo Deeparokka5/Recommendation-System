{
 "cells": [
  {
   "cell_type": "code",
   "execution_count": 1,
   "id": "f26b04c1",
   "metadata": {},
   "outputs": [],
   "source": [
    "import pandas as pd\n",
    "import numpy as np"
   ]
  },
  {
   "cell_type": "code",
   "execution_count": 2,
   "id": "903bd2cf",
   "metadata": {},
   "outputs": [
    {
     "data": {
      "text/html": [
       "<div>\n",
       "<style scoped>\n",
       "    .dataframe tbody tr th:only-of-type {\n",
       "        vertical-align: middle;\n",
       "    }\n",
       "\n",
       "    .dataframe tbody tr th {\n",
       "        vertical-align: top;\n",
       "    }\n",
       "\n",
       "    .dataframe thead th {\n",
       "        text-align: right;\n",
       "    }\n",
       "</style>\n",
       "<table border=\"1\" class=\"dataframe\">\n",
       "  <thead>\n",
       "    <tr style=\"text-align: right;\">\n",
       "      <th></th>\n",
       "      <th>SN</th>\n",
       "      <th>Places</th>\n",
       "      <th>tags</th>\n",
       "    </tr>\n",
       "  </thead>\n",
       "  <tbody>\n",
       "    <tr>\n",
       "      <th>0</th>\n",
       "      <td>1</td>\n",
       "      <td>Swyambunath Stupa</td>\n",
       "      <td>cultural, religious, wildlife, sightseeing</td>\n",
       "    </tr>\n",
       "    <tr>\n",
       "      <th>1</th>\n",
       "      <td>2</td>\n",
       "      <td>Pashupatinath Temple</td>\n",
       "      <td>religious, historical,sightseeing</td>\n",
       "    </tr>\n",
       "    <tr>\n",
       "      <th>2</th>\n",
       "      <td>3</td>\n",
       "      <td>Kathmandu Durbar Square</td>\n",
       "      <td>cultural, sightseeing, historical</td>\n",
       "    </tr>\n",
       "    <tr>\n",
       "      <th>3</th>\n",
       "      <td>4</td>\n",
       "      <td>Garden of Dreams</td>\n",
       "      <td>sightseeing</td>\n",
       "    </tr>\n",
       "    <tr>\n",
       "      <th>4</th>\n",
       "      <td>5</td>\n",
       "      <td>Boudhanath Stupa</td>\n",
       "      <td>cultural, religious, wildlife, sightseeing</td>\n",
       "    </tr>\n",
       "  </tbody>\n",
       "</table>\n",
       "</div>"
      ],
      "text/plain": [
       "   SN                   Places                                        tags\n",
       "0   1        Swyambunath Stupa  cultural, religious, wildlife, sightseeing\n",
       "1   2     Pashupatinath Temple           religious, historical,sightseeing\n",
       "2   3  Kathmandu Durbar Square           cultural, sightseeing, historical\n",
       "3   4         Garden of Dreams                                 sightseeing\n",
       "4   5         Boudhanath Stupa  cultural, religious, wildlife, sightseeing"
      ]
     },
     "execution_count": 2,
     "metadata": {},
     "output_type": "execute_result"
    }
   ],
   "source": [
    "df = pd.read_excel('DatasetAutoRecovered.xlsx')\n",
    "df.head()"
   ]
  },
  {
   "cell_type": "code",
   "execution_count": 3,
   "id": "d95fe6e8",
   "metadata": {
    "scrolled": false
   },
   "outputs": [
    {
     "data": {
      "text/plain": [
       "(104, 3)"
      ]
     },
     "execution_count": 3,
     "metadata": {},
     "output_type": "execute_result"
    }
   ],
   "source": [
    "df.shape"
   ]
  },
  {
   "cell_type": "code",
   "execution_count": 4,
   "id": "38c76569",
   "metadata": {},
   "outputs": [],
   "source": [
    "df_final = df['Places']+' '+df['tags']"
   ]
  },
  {
   "cell_type": "code",
   "execution_count": 5,
   "id": "8d2d4b48",
   "metadata": {},
   "outputs": [
    {
     "name": "stdout",
     "output_type": "stream",
     "text": [
      "0      Swyambunath Stupa cultural, religious, wildlif...\n",
      "1      Pashupatinath Temple religious, historical,sig...\n",
      "2      Kathmandu Durbar Square cultural, sightseeing,...\n",
      "3                           Garden of Dreams sightseeing\n",
      "4      Boudhanath Stupa cultural, religious, wildlife...\n",
      "                             ...                        \n",
      "99                                                   NaN\n",
      "100                                                  NaN\n",
      "101                                                  NaN\n",
      "102                                                  NaN\n",
      "103                                                  NaN\n",
      "Length: 104, dtype: object\n"
     ]
    }
   ],
   "source": [
    "print(df_final)"
   ]
  },
  {
   "cell_type": "code",
   "execution_count": 6,
   "id": "bb9649ff",
   "metadata": {},
   "outputs": [],
   "source": [
    "df_final = df_final.dropna()"
   ]
  },
  {
   "cell_type": "code",
   "execution_count": 7,
   "id": "e88c9ecc",
   "metadata": {},
   "outputs": [
    {
     "name": "stdout",
     "output_type": "stream",
     "text": [
      "0     Swyambunath Stupa cultural, religious, wildlif...\n",
      "1     Pashupatinath Temple religious, historical,sig...\n",
      "2     Kathmandu Durbar Square cultural, sightseeing,...\n",
      "3                          Garden of Dreams sightseeing\n",
      "4     Boudhanath Stupa cultural, religious, wildlife...\n",
      "                            ...                        \n",
      "94                     Dreamland Eco Resort sightseeing\n",
      "95               LOD - Lord Of The Drinks entertainment\n",
      "96                         Dadagaun sightseeing ,hiking\n",
      "97                        Kalu Pandey Danda sightseeing\n",
      "98                  Central Zoo entertainment ,wildlife\n",
      "Length: 99, dtype: object\n"
     ]
    }
   ],
   "source": [
    "print(df_final)"
   ]
  },
  {
   "cell_type": "code",
   "execution_count": 8,
   "id": "ead80c0b",
   "metadata": {},
   "outputs": [],
   "source": [
    "df = df.dropna()"
   ]
  },
  {
   "cell_type": "code",
   "execution_count": 9,
   "id": "fdb269c9",
   "metadata": {},
   "outputs": [
    {
     "data": {
      "text/html": [
       "<div>\n",
       "<style scoped>\n",
       "    .dataframe tbody tr th:only-of-type {\n",
       "        vertical-align: middle;\n",
       "    }\n",
       "\n",
       "    .dataframe tbody tr th {\n",
       "        vertical-align: top;\n",
       "    }\n",
       "\n",
       "    .dataframe thead th {\n",
       "        text-align: right;\n",
       "    }\n",
       "</style>\n",
       "<table border=\"1\" class=\"dataframe\">\n",
       "  <thead>\n",
       "    <tr style=\"text-align: right;\">\n",
       "      <th></th>\n",
       "      <th>SN</th>\n",
       "      <th>Places</th>\n",
       "      <th>tags</th>\n",
       "    </tr>\n",
       "  </thead>\n",
       "  <tbody>\n",
       "    <tr>\n",
       "      <th>0</th>\n",
       "      <td>1</td>\n",
       "      <td>Swyambunath Stupa</td>\n",
       "      <td>cultural, religious, wildlife, sightseeing</td>\n",
       "    </tr>\n",
       "    <tr>\n",
       "      <th>1</th>\n",
       "      <td>2</td>\n",
       "      <td>Pashupatinath Temple</td>\n",
       "      <td>religious, historical,sightseeing</td>\n",
       "    </tr>\n",
       "    <tr>\n",
       "      <th>2</th>\n",
       "      <td>3</td>\n",
       "      <td>Kathmandu Durbar Square</td>\n",
       "      <td>cultural, sightseeing, historical</td>\n",
       "    </tr>\n",
       "    <tr>\n",
       "      <th>3</th>\n",
       "      <td>4</td>\n",
       "      <td>Garden of Dreams</td>\n",
       "      <td>sightseeing</td>\n",
       "    </tr>\n",
       "    <tr>\n",
       "      <th>4</th>\n",
       "      <td>5</td>\n",
       "      <td>Boudhanath Stupa</td>\n",
       "      <td>cultural, religious, wildlife, sightseeing</td>\n",
       "    </tr>\n",
       "    <tr>\n",
       "      <th>...</th>\n",
       "      <td>...</td>\n",
       "      <td>...</td>\n",
       "      <td>...</td>\n",
       "    </tr>\n",
       "    <tr>\n",
       "      <th>94</th>\n",
       "      <td>95</td>\n",
       "      <td>Dreamland Eco Resort</td>\n",
       "      <td>sightseeing</td>\n",
       "    </tr>\n",
       "    <tr>\n",
       "      <th>95</th>\n",
       "      <td>96</td>\n",
       "      <td>LOD - Lord Of The Drinks</td>\n",
       "      <td>entertainment</td>\n",
       "    </tr>\n",
       "    <tr>\n",
       "      <th>96</th>\n",
       "      <td>97</td>\n",
       "      <td>Dadagaun</td>\n",
       "      <td>sightseeing ,hiking</td>\n",
       "    </tr>\n",
       "    <tr>\n",
       "      <th>97</th>\n",
       "      <td>98</td>\n",
       "      <td>Kalu Pandey Danda</td>\n",
       "      <td>sightseeing</td>\n",
       "    </tr>\n",
       "    <tr>\n",
       "      <th>98</th>\n",
       "      <td>99</td>\n",
       "      <td>Central Zoo</td>\n",
       "      <td>entertainment ,wildlife</td>\n",
       "    </tr>\n",
       "  </tbody>\n",
       "</table>\n",
       "<p>99 rows × 3 columns</p>\n",
       "</div>"
      ],
      "text/plain": [
       "    SN                    Places                                        tags\n",
       "0    1         Swyambunath Stupa  cultural, religious, wildlife, sightseeing\n",
       "1    2      Pashupatinath Temple           religious, historical,sightseeing\n",
       "2    3   Kathmandu Durbar Square           cultural, sightseeing, historical\n",
       "3    4          Garden of Dreams                                 sightseeing\n",
       "4    5          Boudhanath Stupa  cultural, religious, wildlife, sightseeing\n",
       "..  ..                       ...                                         ...\n",
       "94  95      Dreamland Eco Resort                                 sightseeing\n",
       "95  96  LOD - Lord Of The Drinks                               entertainment\n",
       "96  97                  Dadagaun                         sightseeing ,hiking\n",
       "97  98         Kalu Pandey Danda                                 sightseeing\n",
       "98  99               Central Zoo                     entertainment ,wildlife\n",
       "\n",
       "[99 rows x 3 columns]"
      ]
     },
     "execution_count": 9,
     "metadata": {},
     "output_type": "execute_result"
    }
   ],
   "source": [
    "df"
   ]
  },
  {
   "cell_type": "code",
   "execution_count": 10,
   "id": "7a1f3ce9",
   "metadata": {},
   "outputs": [
    {
     "data": {
      "text/plain": [
       "array([[0, 0, 0, ..., 1, 0, 0],\n",
       "       [0, 0, 0, ..., 0, 0, 0],\n",
       "       [0, 0, 0, ..., 0, 0, 0],\n",
       "       ...,\n",
       "       [0, 0, 0, ..., 0, 0, 0],\n",
       "       [0, 0, 0, ..., 0, 0, 0],\n",
       "       [0, 0, 0, ..., 1, 0, 1]], dtype=int64)"
      ]
     },
     "execution_count": 10,
     "metadata": {},
     "output_type": "execute_result"
    }
   ],
   "source": [
    "from sklearn.feature_extraction.text import CountVectorizer\n",
    "cv = CountVectorizer()\n",
    "\n",
    "count_matrix1 = cv.fit_transform(df_final).toarray()\n",
    "count_matrix1"
   ]
  },
  {
   "cell_type": "code",
   "execution_count": 11,
   "id": "988e13fe",
   "metadata": {},
   "outputs": [
    {
     "data": {
      "text/plain": [
       "array([[0, 0, 1, ..., 0, 1, 1],\n",
       "       [0, 0, 0, ..., 0, 1, 0],\n",
       "       [0, 0, 1, ..., 0, 1, 0],\n",
       "       ...,\n",
       "       [0, 0, 0, ..., 0, 1, 0],\n",
       "       [0, 0, 0, ..., 0, 1, 0],\n",
       "       [0, 0, 0, ..., 0, 0, 1]], dtype=int64)"
      ]
     },
     "execution_count": 11,
     "metadata": {},
     "output_type": "execute_result"
    }
   ],
   "source": [
    "from sklearn.feature_extraction.text import CountVectorizer\n",
    "cv = CountVectorizer()\n",
    "\n",
    "count_matrix = cv.fit_transform(df['tags']).toarray()\n",
    "count_matrix"
   ]
  },
  {
   "cell_type": "code",
   "execution_count": 12,
   "id": "c6415859",
   "metadata": {
    "scrolled": true
   },
   "outputs": [
    {
     "data": {
      "text/plain": [
       "(99, 174)"
      ]
     },
     "execution_count": 12,
     "metadata": {},
     "output_type": "execute_result"
    }
   ],
   "source": [
    "count_matrix1.shape"
   ]
  },
  {
   "cell_type": "code",
   "execution_count": 13,
   "id": "ccb96a1b",
   "metadata": {},
   "outputs": [
    {
     "name": "stderr",
     "output_type": "stream",
     "text": [
      "C:\\ProgramData\\Anaconda3\\lib\\site-packages\\sklearn\\utils\\deprecation.py:87: FutureWarning: Function get_feature_names is deprecated; get_feature_names is deprecated in 1.0 and will be removed in 1.2. Please use get_feature_names_out instead.\n",
      "  warnings.warn(msg, category=FutureWarning)\n"
     ]
    },
    {
     "data": {
      "text/plain": [
       "['adventerous',\n",
       " 'art',\n",
       " 'cultural',\n",
       " 'entertainment',\n",
       " 'hiking',\n",
       " 'historic',\n",
       " 'historical',\n",
       " 'picnic',\n",
       " 'religious',\n",
       " 'sightseeeing',\n",
       " 'sightseeing',\n",
       " 'wildlife']"
      ]
     },
     "execution_count": 13,
     "metadata": {},
     "output_type": "execute_result"
    }
   ],
   "source": [
    "X_name = cv.get_feature_names()\n",
    "X_name"
   ]
  },
  {
   "cell_type": "code",
   "execution_count": 14,
   "id": "14746e8f",
   "metadata": {},
   "outputs": [
    {
     "data": {
      "text/plain": [
       "array([1.        , 0.57735027, 0.57735027, 0.5       , 1.        ,\n",
       "       0.5       , 0.5       , 0.57735027, 0.8660254 , 0.5       ,\n",
       "       0.5       , 0.35355339, 0.57735027, 0.5       , 0.35355339,\n",
       "       0.57735027, 0.28867513, 0.5       , 0.        , 0.70710678,\n",
       "       0.70710678, 0.5       , 0.70710678, 0.8660254 , 0.28867513,\n",
       "       0.8660254 , 0.70710678, 0.5       , 0.70710678, 0.70710678,\n",
       "       0.28867513, 0.70710678, 0.        , 0.        , 0.        ,\n",
       "       0.70710678, 0.5       , 0.57735027, 0.35355339, 0.28867513,\n",
       "       0.        , 0.28867513, 0.35355339, 0.35355339, 0.5       ,\n",
       "       0.75      , 0.28867513, 0.25      , 0.        , 0.35355339,\n",
       "       0.        , 0.        , 0.        , 0.35355339, 0.        ,\n",
       "       0.28867513, 0.35355339, 0.35355339, 0.70710678, 0.70710678,\n",
       "       0.70710678, 0.35355339, 0.28867513, 0.35355339, 0.57735027,\n",
       "       0.        , 0.25      , 0.        , 0.28867513, 0.70710678,\n",
       "       0.70710678, 0.35355339, 0.70710678, 0.35355339, 0.35355339,\n",
       "       0.35355339, 0.28867513, 0.        , 0.35355339, 0.70710678,\n",
       "       0.35355339, 0.        , 0.35355339, 0.35355339, 0.        ,\n",
       "       0.28867513, 0.        , 0.        , 0.35355339, 0.5       ,\n",
       "       0.5       , 0.70710678, 0.5       , 0.5       , 0.5       ,\n",
       "       0.        , 0.35355339, 0.5       , 0.35355339])"
      ]
     },
     "execution_count": 14,
     "metadata": {},
     "output_type": "execute_result"
    }
   ],
   "source": [
    "from sklearn.metrics.pairwise import cosine_similarity\n",
    "similarity = cosine_similarity(count_matrix)\n",
    "\n",
    "similarity[0]"
   ]
  },
  {
   "cell_type": "code",
   "execution_count": 15,
   "id": "45f6dd76",
   "metadata": {},
   "outputs": [],
   "source": [
    "from sklearn.metrics.pairwise import cosine_similarity\n",
    "similarity1 = cosine_similarity(count_matrix1)"
   ]
  },
  {
   "cell_type": "code",
   "execution_count": 16,
   "id": "bf605c2e",
   "metadata": {
    "scrolled": false
   },
   "outputs": [
    {
     "data": {
      "text/plain": [
       "array([1.        , 0.57735027, 0.57735027, 0.5       , 1.        ,\n",
       "       0.5       , 0.5       , 0.57735027, 0.8660254 , 0.5       ,\n",
       "       0.5       , 0.35355339, 0.57735027, 0.5       , 0.35355339,\n",
       "       0.57735027, 0.28867513, 0.5       , 0.        , 0.70710678,\n",
       "       0.70710678, 0.5       , 0.70710678, 0.8660254 , 0.28867513,\n",
       "       0.8660254 , 0.70710678, 0.5       , 0.70710678, 0.70710678,\n",
       "       0.28867513, 0.70710678, 0.        , 0.        , 0.        ,\n",
       "       0.70710678, 0.5       , 0.57735027, 0.35355339, 0.28867513,\n",
       "       0.        , 0.28867513, 0.35355339, 0.35355339, 0.5       ,\n",
       "       0.75      , 0.28867513, 0.25      , 0.        , 0.35355339,\n",
       "       0.        , 0.        , 0.        , 0.35355339, 0.        ,\n",
       "       0.28867513, 0.35355339, 0.35355339, 0.70710678, 0.70710678,\n",
       "       0.70710678, 0.35355339, 0.28867513, 0.35355339, 0.57735027,\n",
       "       0.        , 0.25      , 0.        , 0.28867513, 0.70710678,\n",
       "       0.70710678, 0.35355339, 0.70710678, 0.35355339, 0.35355339,\n",
       "       0.35355339, 0.28867513, 0.        , 0.35355339, 0.70710678,\n",
       "       0.35355339, 0.        , 0.35355339, 0.35355339, 0.        ,\n",
       "       0.28867513, 0.        , 0.        , 0.35355339, 0.5       ,\n",
       "       0.5       , 0.70710678, 0.5       , 0.5       , 0.5       ,\n",
       "       0.        , 0.35355339, 0.5       , 0.35355339])"
      ]
     },
     "execution_count": 16,
     "metadata": {},
     "output_type": "execute_result"
    }
   ],
   "source": [
    "similarity[0]"
   ]
  },
  {
   "cell_type": "code",
   "execution_count": 17,
   "id": "e7163b2c",
   "metadata": {
    "scrolled": true
   },
   "outputs": [
    {
     "data": {
      "text/plain": [
       "(99,)"
      ]
     },
     "execution_count": 17,
     "metadata": {},
     "output_type": "execute_result"
    }
   ],
   "source": [
    "similarity[0].shape"
   ]
  },
  {
   "cell_type": "code",
   "execution_count": 18,
   "id": "3a6469c3",
   "metadata": {},
   "outputs": [
    {
     "data": {
      "text/plain": [
       "[1.0,\n",
       " 1.0,\n",
       " 0.8660254037844388,\n",
       " 0.8660254037844388,\n",
       " 0.8660254037844388,\n",
       " 0.75,\n",
       " 0.7071067811865475,\n",
       " 0.7071067811865475,\n",
       " 0.7071067811865475,\n",
       " 0.7071067811865475,\n",
       " 0.7071067811865475,\n",
       " 0.7071067811865475,\n",
       " 0.7071067811865475,\n",
       " 0.7071067811865475,\n",
       " 0.7071067811865475,\n",
       " 0.7071067811865475,\n",
       " 0.7071067811865475,\n",
       " 0.7071067811865475,\n",
       " 0.7071067811865475,\n",
       " 0.7071067811865475,\n",
       " 0.7071067811865475,\n",
       " 0.7071067811865475,\n",
       " 0.5773502691896258,\n",
       " 0.5773502691896258,\n",
       " 0.5773502691896258,\n",
       " 0.5773502691896258,\n",
       " 0.5773502691896258,\n",
       " 0.5773502691896258,\n",
       " 0.5773502691896258,\n",
       " 0.5,\n",
       " 0.5,\n",
       " 0.5,\n",
       " 0.5,\n",
       " 0.5,\n",
       " 0.5,\n",
       " 0.5,\n",
       " 0.5,\n",
       " 0.5,\n",
       " 0.5,\n",
       " 0.5,\n",
       " 0.5,\n",
       " 0.5,\n",
       " 0.5,\n",
       " 0.5,\n",
       " 0.5,\n",
       " 0.5,\n",
       " 0.35355339059327373,\n",
       " 0.35355339059327373,\n",
       " 0.35355339059327373,\n",
       " 0.35355339059327373,\n",
       " 0.35355339059327373,\n",
       " 0.35355339059327373,\n",
       " 0.35355339059327373,\n",
       " 0.35355339059327373,\n",
       " 0.35355339059327373,\n",
       " 0.35355339059327373,\n",
       " 0.35355339059327373,\n",
       " 0.35355339059327373,\n",
       " 0.35355339059327373,\n",
       " 0.35355339059327373,\n",
       " 0.35355339059327373,\n",
       " 0.35355339059327373,\n",
       " 0.35355339059327373,\n",
       " 0.35355339059327373,\n",
       " 0.35355339059327373,\n",
       " 0.35355339059327373,\n",
       " 0.35355339059327373,\n",
       " 0.35355339059327373,\n",
       " 0.2886751345948129,\n",
       " 0.2886751345948129,\n",
       " 0.2886751345948129,\n",
       " 0.2886751345948129,\n",
       " 0.2886751345948129,\n",
       " 0.2886751345948129,\n",
       " 0.2886751345948129,\n",
       " 0.2886751345948129,\n",
       " 0.2886751345948129,\n",
       " 0.2886751345948129,\n",
       " 0.2886751345948129,\n",
       " 0.25,\n",
       " 0.25,\n",
       " 0.0,\n",
       " 0.0,\n",
       " 0.0,\n",
       " 0.0,\n",
       " 0.0,\n",
       " 0.0,\n",
       " 0.0,\n",
       " 0.0,\n",
       " 0.0,\n",
       " 0.0,\n",
       " 0.0,\n",
       " 0.0,\n",
       " 0.0,\n",
       " 0.0,\n",
       " 0.0,\n",
       " 0.0,\n",
       " 0.0,\n",
       " 0.0]"
      ]
     },
     "execution_count": 18,
     "metadata": {},
     "output_type": "execute_result"
    }
   ],
   "source": [
    "sorted(similarity[0],reverse=True)"
   ]
  },
  {
   "cell_type": "code",
   "execution_count": 19,
   "id": "5b389842",
   "metadata": {
    "scrolled": true
   },
   "outputs": [
    {
     "data": {
      "text/plain": [
       "[(0, 1.0),\n",
       " (1, 0.5773502691896258),\n",
       " (2, 0.5773502691896258),\n",
       " (3, 0.5),\n",
       " (4, 1.0),\n",
       " (5, 0.5),\n",
       " (6, 0.5),\n",
       " (7, 0.5773502691896258),\n",
       " (8, 0.8660254037844388),\n",
       " (9, 0.5),\n",
       " (10, 0.5),\n",
       " (11, 0.35355339059327373),\n",
       " (12, 0.5773502691896258),\n",
       " (13, 0.5),\n",
       " (14, 0.35355339059327373),\n",
       " (15, 0.5773502691896258),\n",
       " (16, 0.2886751345948129),\n",
       " (17, 0.5),\n",
       " (18, 0.0),\n",
       " (19, 0.7071067811865475),\n",
       " (20, 0.7071067811865475),\n",
       " (21, 0.5),\n",
       " (22, 0.7071067811865475),\n",
       " (23, 0.8660254037844388),\n",
       " (24, 0.2886751345948129),\n",
       " (25, 0.8660254037844388),\n",
       " (26, 0.7071067811865475),\n",
       " (27, 0.5),\n",
       " (28, 0.7071067811865475),\n",
       " (29, 0.7071067811865475),\n",
       " (30, 0.2886751345948129),\n",
       " (31, 0.7071067811865475),\n",
       " (32, 0.0),\n",
       " (33, 0.0),\n",
       " (34, 0.0),\n",
       " (35, 0.7071067811865475),\n",
       " (36, 0.5),\n",
       " (37, 0.5773502691896258),\n",
       " (38, 0.35355339059327373),\n",
       " (39, 0.2886751345948129),\n",
       " (40, 0.0),\n",
       " (41, 0.2886751345948129),\n",
       " (42, 0.35355339059327373),\n",
       " (43, 0.35355339059327373),\n",
       " (44, 0.5),\n",
       " (45, 0.75),\n",
       " (46, 0.2886751345948129),\n",
       " (47, 0.25),\n",
       " (48, 0.0),\n",
       " (49, 0.35355339059327373),\n",
       " (50, 0.0),\n",
       " (51, 0.0),\n",
       " (52, 0.0),\n",
       " (53, 0.35355339059327373),\n",
       " (54, 0.0),\n",
       " (55, 0.2886751345948129),\n",
       " (56, 0.35355339059327373),\n",
       " (57, 0.35355339059327373),\n",
       " (58, 0.7071067811865475),\n",
       " (59, 0.7071067811865475),\n",
       " (60, 0.7071067811865475),\n",
       " (61, 0.35355339059327373),\n",
       " (62, 0.2886751345948129),\n",
       " (63, 0.35355339059327373),\n",
       " (64, 0.5773502691896258),\n",
       " (65, 0.0),\n",
       " (66, 0.25),\n",
       " (67, 0.0),\n",
       " (68, 0.2886751345948129),\n",
       " (69, 0.7071067811865475),\n",
       " (70, 0.7071067811865475),\n",
       " (71, 0.35355339059327373),\n",
       " (72, 0.7071067811865475),\n",
       " (73, 0.35355339059327373),\n",
       " (74, 0.35355339059327373),\n",
       " (75, 0.35355339059327373),\n",
       " (76, 0.2886751345948129),\n",
       " (77, 0.0),\n",
       " (78, 0.35355339059327373),\n",
       " (79, 0.7071067811865475),\n",
       " (80, 0.35355339059327373),\n",
       " (81, 0.0),\n",
       " (82, 0.35355339059327373),\n",
       " (83, 0.35355339059327373),\n",
       " (84, 0.0),\n",
       " (85, 0.2886751345948129),\n",
       " (86, 0.0),\n",
       " (87, 0.0),\n",
       " (88, 0.35355339059327373),\n",
       " (89, 0.5),\n",
       " (90, 0.5),\n",
       " (91, 0.7071067811865475),\n",
       " (92, 0.5),\n",
       " (93, 0.5),\n",
       " (94, 0.5),\n",
       " (95, 0.0),\n",
       " (96, 0.35355339059327373),\n",
       " (97, 0.5),\n",
       " (98, 0.35355339059327373)]"
      ]
     },
     "execution_count": 19,
     "metadata": {},
     "output_type": "execute_result"
    }
   ],
   "source": [
    "# Capturing the index position \n",
    "list(enumerate(similarity[0]))"
   ]
  },
  {
   "cell_type": "code",
   "execution_count": 20,
   "id": "612b335c",
   "metadata": {},
   "outputs": [
    {
     "data": {
      "text/plain": [
       "[(4, 1.0),\n",
       " (8, 0.8660254037844388),\n",
       " (23, 0.8660254037844388),\n",
       " (25, 0.8660254037844388),\n",
       " (45, 0.75)]"
      ]
     },
     "execution_count": 20,
     "metadata": {},
     "output_type": "execute_result"
    }
   ],
   "source": [
    "# Getting the first five recommendations from similarity\n",
    "\n",
    "sorted(list(enumerate(similarity[0])),reverse=True,key=lambda x:x[1])[1:6]"
   ]
  },
  {
   "cell_type": "code",
   "execution_count": 21,
   "id": "0949f2a9",
   "metadata": {},
   "outputs": [],
   "source": [
    "def recommend(places):\n",
    "    places_index = df[df['Places'] == places].index[0]\n",
    "    distances = similarity[places_index]\n",
    "    places_list = sorted(list(enumerate(distances)),reverse=True,key=lambda x:x[1])[1:6]\n",
    "    \n",
    "    for i in places_list:\n",
    "        print(df.iloc[i[0]].Places)"
   ]
  },
  {
   "cell_type": "code",
   "execution_count": 22,
   "id": "cef6e65d",
   "metadata": {},
   "outputs": [],
   "source": [
    "def recommend1(places):\n",
    "    places_index = df[df['Places'] == places].index[0]\n",
    "    distances = similarity1[places_index]\n",
    "    places_list = sorted(list(enumerate(distances)),reverse=True,key=lambda x:x[1])[1:6]\n",
    "    \n",
    "    for i in places_list:\n",
    "        print(df.iloc[i[0]].Places)"
   ]
  },
  {
   "cell_type": "code",
   "execution_count": 23,
   "id": "a6606703",
   "metadata": {
    "scrolled": true
   },
   "outputs": [
    {
     "name": "stdout",
     "output_type": "stream",
     "text": [
      "Boudhanath Stupa\n",
      "Budhanilkantha Temple\n",
      "Jagannath Temple\n",
      "Vajrayogini Temple\n",
      "Namo Buddha\n"
     ]
    }
   ],
   "source": [
    "recommend('Swyambunath Stupa')"
   ]
  },
  {
   "cell_type": "code",
   "execution_count": 24,
   "id": "5aeefb78",
   "metadata": {},
   "outputs": [
    {
     "name": "stdout",
     "output_type": "stream",
     "text": [
      "Boudhanath Stupa\n",
      "Budhanilkantha Temple\n",
      "Jagannath Temple\n",
      "Vajrayogini Temple\n",
      "Chabahil Stupa\n"
     ]
    }
   ],
   "source": [
    "recommend1('Swyambunath Stupa')"
   ]
  },
  {
   "cell_type": "code",
   "execution_count": 25,
   "id": "ce8d80d5",
   "metadata": {},
   "outputs": [
    {
     "data": {
      "text/plain": [
       "'Boudhanath Stupa'"
      ]
     },
     "execution_count": 25,
     "metadata": {},
     "output_type": "execute_result"
    }
   ],
   "source": [
    "df.iloc[4].Places"
   ]
  },
  {
   "cell_type": "code",
   "execution_count": null,
   "id": "0d7722e9",
   "metadata": {},
   "outputs": [],
   "source": []
  },
  {
   "cell_type": "code",
   "execution_count": 26,
   "id": "29414395",
   "metadata": {},
   "outputs": [
    {
     "name": "stdout",
     "output_type": "stream",
     "text": [
      "Kumari Bahal\n",
      "Kopan Monastery\n",
      "Asan Tole\n",
      "White Monastery\n",
      "Taudaha Lake\n"
     ]
    }
   ],
   "source": [
    "recommend('Garden of Dreams')"
   ]
  },
  {
   "cell_type": "code",
   "execution_count": 27,
   "id": "1513d70a",
   "metadata": {},
   "outputs": [
    {
     "name": "stdout",
     "output_type": "stream",
     "text": [
      "House of Palettes\n",
      "National Museum of Nepal\n",
      "Thamel\n",
      "Pharping\n",
      "Kumari Bahal\n"
     ]
    }
   ],
   "source": [
    "recommend1('Garden of Dreams')"
   ]
  },
  {
   "cell_type": "code",
   "execution_count": 28,
   "id": "a484eba8",
   "metadata": {},
   "outputs": [],
   "source": [
    "import pickle"
   ]
  },
  {
   "cell_type": "code",
   "execution_count": 29,
   "id": "bb82488e",
   "metadata": {},
   "outputs": [],
   "source": [
    "pickle.dump(df,open('places.pickle','wb'))"
   ]
  },
  {
   "cell_type": "code",
   "execution_count": 30,
   "id": "045ebc51",
   "metadata": {},
   "outputs": [],
   "source": [
    "pickle.dump(df.to_dict(),open('places_dict.pickle','wb'))"
   ]
  },
  {
   "cell_type": "code",
   "execution_count": 31,
   "id": "7dd67a92",
   "metadata": {},
   "outputs": [
    {
     "data": {
      "text/plain": [
       "array(['Swyambunath Stupa', 'Pashupatinath Temple',\n",
       "       'Kathmandu Durbar Square', 'Garden of Dreams', 'Boudhanath Stupa',\n",
       "       'Kumari Bahal', 'Kopan Monastery', 'Narayanhiti Palace',\n",
       "       'Budhanilkantha Temple', 'Asan Tole', 'White Monastery',\n",
       "       'Dharahara', 'Hanuman Dhoka', 'Taudaha Lake',\n",
       "       'Siddhartha Art Gallery', 'Pulchoki', 'The Last Resort', 'Thamel',\n",
       "       'Bhundole', 'Dakshinkali Temple', 'Patan', 'Indra Chowk',\n",
       "       'Kala Bhairav', 'Jagannath Temple', 'National Museum of Nepal',\n",
       "       'Vajrayogini Temple', 'Taleju Temple',\n",
       "       'National Botanical Gardens', 'Akash Bhairav Temple',\n",
       "       'Seto Machindranath Temple', 'Tribhuvan Museum',\n",
       "       'Shiva-Parvati Temple', 'Kaiser Library', 'Stone Inscription',\n",
       "       'Casino Royale', 'Annapurna Temple', 'Chhauni Museum',\n",
       "       'Chabahil Stupa', 'Freak Street', 'chandragiri',\n",
       "       'Kathmandu Fun Park', 'Nagarkot', 'Dhulikhel', 'Chobhar Danda',\n",
       "       'Pharping', 'Namo Buddha', 'JarsingPauwa', 'Lakuri Bhanjyang',\n",
       "       'Jump KTM', 'Art in Paradise Nepal', 'Whoopee Land', 'Astrek Park',\n",
       "       'Kathmandu Sports and Climbing Centre', 'House of Palettes',\n",
       "       'Outdoor Adventure Centre Nepal', 'Sundarijal', '55 window palace',\n",
       "       'Bhaktapur Durbar Square', 'Taumadhi Square',\n",
       "       'Changunarayan Temple', 'Doleshwar Mahadev Temple', 'Thimi',\n",
       "       'Dattatraya and Pottery Square', 'Pilot Baba Ashram',\n",
       "       'Kailashnath Temple', 'Ranikot', 'Trishul Danda', 'Ghyampe Danda',\n",
       "       'Latarambeshwar', 'Subarneshwar Mahadev Temple',\n",
       "       'Anantalingeshwar Mahadev Temple', 'kalamasi', 'Nil Barahi Temple',\n",
       "       'Gundu', 'Mahamanjushree Temple', 'Godavari', 'Shivapuri',\n",
       "       'Marble Danda', 'Kakani', 'Muchkund Cave', 'Chisapani',\n",
       "       'Champadevi', 'Panch Pokhari', 'White House', 'Bishnudwar',\n",
       "       'Jamacho', 'Tarebhir', 'Shivapuri National Park', 'Sukute Beach',\n",
       "       'Single Tree Hill', 'Bagh Bhairav Temple',\n",
       "       'Nagar Mandap Shri Kirti Bihar', 'Tinthana Suspension Bridge',\n",
       "       '\\xa0BP Koirala Memorial Planetarium Observatory and Science Museum',\n",
       "       'Dreamland Eco Resort', 'LOD - Lord Of The Drinks', 'Dadagaun',\n",
       "       'Kalu Pandey Danda', 'Central Zoo'], dtype=object)"
      ]
     },
     "execution_count": 31,
     "metadata": {},
     "output_type": "execute_result"
    }
   ],
   "source": [
    "df['Places'].values"
   ]
  },
  {
   "cell_type": "code",
   "execution_count": 32,
   "id": "106d10a7",
   "metadata": {},
   "outputs": [
    {
     "data": {
      "text/plain": [
       "{'SN': {0: 1,\n",
       "  1: 2,\n",
       "  2: 3,\n",
       "  3: 4,\n",
       "  4: 5,\n",
       "  5: 6,\n",
       "  6: 7,\n",
       "  7: 8,\n",
       "  8: 9,\n",
       "  9: 10,\n",
       "  10: 11,\n",
       "  11: 12,\n",
       "  12: 13,\n",
       "  13: 14,\n",
       "  14: 15,\n",
       "  15: 16,\n",
       "  16: 17,\n",
       "  17: 18,\n",
       "  18: 19,\n",
       "  19: 20,\n",
       "  20: 21,\n",
       "  21: 22,\n",
       "  22: 23,\n",
       "  23: 24,\n",
       "  24: 25,\n",
       "  25: 26,\n",
       "  26: 27,\n",
       "  27: 28,\n",
       "  28: 29,\n",
       "  29: 30,\n",
       "  30: 31,\n",
       "  31: 32,\n",
       "  32: 33,\n",
       "  33: 34,\n",
       "  34: 35,\n",
       "  35: 36,\n",
       "  36: 37,\n",
       "  37: 38,\n",
       "  38: 39,\n",
       "  39: 40,\n",
       "  40: 41,\n",
       "  41: 42,\n",
       "  42: 43,\n",
       "  43: 44,\n",
       "  44: 45,\n",
       "  45: 46,\n",
       "  46: 47,\n",
       "  47: 48,\n",
       "  48: 49,\n",
       "  49: 50,\n",
       "  50: 21,\n",
       "  51: 52,\n",
       "  52: 53,\n",
       "  53: 54,\n",
       "  54: 55,\n",
       "  55: 56,\n",
       "  56: 57,\n",
       "  57: 58,\n",
       "  58: 59,\n",
       "  59: 60,\n",
       "  60: 61,\n",
       "  61: 62,\n",
       "  62: 63,\n",
       "  63: 64,\n",
       "  64: 65,\n",
       "  65: 66,\n",
       "  66: 67,\n",
       "  67: 68,\n",
       "  68: 69,\n",
       "  69: 70,\n",
       "  70: 71,\n",
       "  71: 72,\n",
       "  72: 73,\n",
       "  73: 74,\n",
       "  74: 75,\n",
       "  75: 76,\n",
       "  76: 77,\n",
       "  77: 78,\n",
       "  78: 79,\n",
       "  79: 80,\n",
       "  80: 81,\n",
       "  81: 82,\n",
       "  82: 83,\n",
       "  83: 84,\n",
       "  84: 85,\n",
       "  85: 86,\n",
       "  86: 87,\n",
       "  87: 88,\n",
       "  88: 89,\n",
       "  89: 90,\n",
       "  90: 91,\n",
       "  91: 92,\n",
       "  92: 93,\n",
       "  93: 94,\n",
       "  94: 95,\n",
       "  95: 96,\n",
       "  96: 97,\n",
       "  97: 98,\n",
       "  98: 99},\n",
       " 'Places': {0: 'Swyambunath Stupa',\n",
       "  1: 'Pashupatinath Temple',\n",
       "  2: 'Kathmandu Durbar Square',\n",
       "  3: 'Garden of Dreams',\n",
       "  4: 'Boudhanath Stupa',\n",
       "  5: 'Kumari Bahal',\n",
       "  6: 'Kopan Monastery',\n",
       "  7: 'Narayanhiti Palace',\n",
       "  8: 'Budhanilkantha Temple',\n",
       "  9: 'Asan Tole',\n",
       "  10: 'White Monastery',\n",
       "  11: 'Dharahara',\n",
       "  12: 'Hanuman Dhoka',\n",
       "  13: 'Taudaha Lake',\n",
       "  14: 'Siddhartha Art Gallery',\n",
       "  15: 'Pulchoki',\n",
       "  16: 'The Last Resort',\n",
       "  17: 'Thamel',\n",
       "  18: 'Bhundole',\n",
       "  19: 'Dakshinkali Temple',\n",
       "  20: 'Patan',\n",
       "  21: 'Indra Chowk',\n",
       "  22: 'Kala Bhairav',\n",
       "  23: 'Jagannath Temple',\n",
       "  24: 'National Museum of Nepal',\n",
       "  25: 'Vajrayogini Temple',\n",
       "  26: 'Taleju Temple',\n",
       "  27: 'National Botanical Gardens',\n",
       "  28: 'Akash Bhairav Temple',\n",
       "  29: 'Seto Machindranath Temple',\n",
       "  30: 'Tribhuvan Museum',\n",
       "  31: 'Shiva-Parvati Temple',\n",
       "  32: 'Kaiser Library',\n",
       "  33: 'Stone Inscription',\n",
       "  34: 'Casino Royale',\n",
       "  35: 'Annapurna Temple',\n",
       "  36: 'Chhauni Museum',\n",
       "  37: 'Chabahil Stupa',\n",
       "  38: 'Freak Street',\n",
       "  39: 'chandragiri',\n",
       "  40: 'Kathmandu Fun Park',\n",
       "  41: 'Nagarkot',\n",
       "  42: 'Dhulikhel',\n",
       "  43: 'Chobhar Danda',\n",
       "  44: 'Pharping',\n",
       "  45: 'Namo Buddha',\n",
       "  46: 'JarsingPauwa',\n",
       "  47: 'Lakuri Bhanjyang',\n",
       "  48: 'Jump KTM',\n",
       "  49: 'Art in Paradise Nepal',\n",
       "  50: 'Whoopee Land',\n",
       "  51: 'Astrek Park',\n",
       "  52: 'Kathmandu Sports and Climbing Centre',\n",
       "  53: 'House of Palettes',\n",
       "  54: 'Outdoor Adventure Centre Nepal',\n",
       "  55: 'Sundarijal',\n",
       "  56: '55 window palace',\n",
       "  57: 'Bhaktapur Durbar Square',\n",
       "  58: 'Taumadhi Square',\n",
       "  59: 'Changunarayan Temple',\n",
       "  60: 'Doleshwar Mahadev Temple',\n",
       "  61: 'Thimi',\n",
       "  62: 'Dattatraya and Pottery Square',\n",
       "  63: 'Pilot Baba Ashram',\n",
       "  64: 'Kailashnath Temple',\n",
       "  65: 'Ranikot',\n",
       "  66: 'Trishul Danda',\n",
       "  67: 'Ghyampe Danda',\n",
       "  68: 'Latarambeshwar',\n",
       "  69: 'Subarneshwar Mahadev Temple',\n",
       "  70: 'Anantalingeshwar Mahadev Temple',\n",
       "  71: 'kalamasi',\n",
       "  72: 'Nil Barahi Temple',\n",
       "  73: 'Gundu',\n",
       "  74: 'Mahamanjushree Temple',\n",
       "  75: 'Godavari',\n",
       "  76: 'Shivapuri',\n",
       "  77: 'Marble Danda',\n",
       "  78: 'Kakani',\n",
       "  79: 'Muchkund Cave',\n",
       "  80: 'Chisapani',\n",
       "  81: 'Champadevi',\n",
       "  82: 'Panch Pokhari',\n",
       "  83: 'White House',\n",
       "  84: 'Bishnudwar',\n",
       "  85: 'Jamacho',\n",
       "  86: 'Tarebhir',\n",
       "  87: 'Shivapuri National Park',\n",
       "  88: 'Sukute Beach',\n",
       "  89: 'Single Tree Hill',\n",
       "  90: 'Bagh Bhairav Temple',\n",
       "  91: 'Nagar Mandap Shri Kirti Bihar',\n",
       "  92: 'Tinthana Suspension Bridge',\n",
       "  93: '\\xa0BP Koirala Memorial Planetarium Observatory and Science Museum',\n",
       "  94: 'Dreamland Eco Resort',\n",
       "  95: 'LOD - Lord Of The Drinks',\n",
       "  96: 'Dadagaun',\n",
       "  97: 'Kalu Pandey Danda',\n",
       "  98: 'Central Zoo'},\n",
       " 'tags': {0: 'cultural, religious, wildlife, sightseeing',\n",
       "  1: 'religious, historical,sightseeing',\n",
       "  2: 'cultural, sightseeing, historical',\n",
       "  3: 'sightseeing',\n",
       "  4: 'cultural, religious, wildlife, sightseeing',\n",
       "  5: 'sightseeing',\n",
       "  6: 'sightseeing',\n",
       "  7: 'cultural, historic, sightseeing',\n",
       "  8: 'cultural, religious, sightseeing',\n",
       "  9: 'sightseeing',\n",
       "  10: 'sightseeing',\n",
       "  11: 'sightseeing, historical',\n",
       "  12: 'religious, sightseeing, historical',\n",
       "  13: 'sightseeing',\n",
       "  14: 'sightseeing ,art',\n",
       "  15: 'adventerous ,wildlife ,sightseeing',\n",
       "  16: 'entertainment ,sightseeing ,adventerous',\n",
       "  17: 'sightseeing',\n",
       "  18: 'hiking',\n",
       "  19: 'religious ,sightseeing',\n",
       "  20: 'cultural ,sightseeing',\n",
       "  21: 'sightseeing',\n",
       "  22: 'cultural ,sightseeing',\n",
       "  23: 'cultural , religious, sightseeing',\n",
       "  24: 'art ,sightseeing ,historical',\n",
       "  25: 'cultural ,religious ,sightseeing',\n",
       "  26: 'cultural, sightseeing',\n",
       "  27: 'sightseeing ',\n",
       "  28: 'cultural ,sightseeing',\n",
       "  29: 'cultural, sightseeing',\n",
       "  30: 'art, sightseeing ,historical',\n",
       "  31: 'cultural , sightseeing',\n",
       "  32: 'historical',\n",
       "  33: 'historical ,art',\n",
       "  34: 'entertainment ',\n",
       "  35: 'cultural, sightseeing',\n",
       "  36: 'sightseeing',\n",
       "  37: 'cultural, historical ,sightseeing',\n",
       "  38: 'art ,sightseeing',\n",
       "  39: 'hiking, sightseeing ,entertainment',\n",
       "  40: 'entertainment ',\n",
       "  41: 'adventerous, sightseeing, picnic',\n",
       "  42: 'adventerous ,sightseeing ',\n",
       "  43: 'historic, sightseeing',\n",
       "  44: 'sightseeing',\n",
       "  45: 'cultural, religious, sightseeing ,historical',\n",
       "  46: 'entertainment ,sightseeing ,adventerous',\n",
       "  47: 'entertainment, hiking, adventerous, sightseeing',\n",
       "  48: 'entertainment',\n",
       "  49: 'art ,sightseeing',\n",
       "  50: 'entertainment ,adventerous',\n",
       "  51: 'adventerous ,entertainment',\n",
       "  52: 'adventerous ,entertainment',\n",
       "  53: 'art ,sightseeing',\n",
       "  54: 'adventerous ,entertainment',\n",
       "  55: 'hiking ,adventerous, sightseeing',\n",
       "  56: 'historical ,sightseeing',\n",
       "  57: 'historical ,sightseeing',\n",
       "  58: 'religious ,sightseeing',\n",
       "  59: 'cultural, sightseeing',\n",
       "  60: 'cultural, sightseeing',\n",
       "  61: 'art ,sightseeing',\n",
       "  62: 'historical, sightseeing ,art',\n",
       "  63: 'sightseeing, picnic',\n",
       "  64: 'art ,sightseeing ,religious',\n",
       "  65: 'hiking ,adventerous ',\n",
       "  66: 'hiking ,picnic ,adventerous ,sightseeing',\n",
       "  67: 'adventerous',\n",
       "  68: 'hiking ,adventerous, religious',\n",
       "  69: 'sightseeing , religious',\n",
       "  70: 'religious ,sightseeing',\n",
       "  71: 'picnic,sightseeing',\n",
       "  72: 'sightseeing, wildlife ',\n",
       "  73: 'sightseeing ,adventerous',\n",
       "  74: 'historical ,sightseeing',\n",
       "  75: 'picnic ,sightseeing',\n",
       "  76: 'hiking ,sightseeing ,picnic',\n",
       "  77: 'hiking',\n",
       "  78: 'sightseeing ,picnic',\n",
       "  79: 'religious ,sightseeing',\n",
       "  80: 'hiking ,sightseeing ',\n",
       "  81: 'hiking ,adventerous ,sightseeeing',\n",
       "  82: 'religious ,hiking',\n",
       "  83: 'adventerous ,sightseeing',\n",
       "  84: 'hiking',\n",
       "  85: 'hiking ,sightseeing ,picnic',\n",
       "  86: 'hiking',\n",
       "  87: 'adventerous',\n",
       "  88: 'sightseeing ,entertainment',\n",
       "  89: 'sightseeing',\n",
       "  90: 'religious ',\n",
       "  91: 'sightseeing ,religious',\n",
       "  92: 'sightseeing',\n",
       "  93: 'sightseeing',\n",
       "  94: 'sightseeing',\n",
       "  95: 'entertainment',\n",
       "  96: 'sightseeing ,hiking',\n",
       "  97: 'sightseeing',\n",
       "  98: 'entertainment ,wildlife'}}"
      ]
     },
     "execution_count": 32,
     "metadata": {},
     "output_type": "execute_result"
    }
   ],
   "source": [
    "df.to_dict()"
   ]
  },
  {
   "cell_type": "code",
   "execution_count": 33,
   "id": "a3a684b7",
   "metadata": {},
   "outputs": [],
   "source": [
    "pickle.dump(similarity,open('similarity.pkl', 'wb'))"
   ]
  },
  {
   "cell_type": "code",
   "execution_count": 34,
   "id": "bcbf3256",
   "metadata": {},
   "outputs": [],
   "source": [
    "from sklearn.neighbors import NearestNeighbors\n",
    "model_knn = NearestNeighbors(metric='cosine', algorithm='brute', n_neighbors=20, n_jobs=-1)"
   ]
  },
  {
   "cell_type": "code",
   "execution_count": null,
   "id": "f2efe878",
   "metadata": {},
   "outputs": [],
   "source": []
  },
  {
   "cell_type": "code",
   "execution_count": 35,
   "id": "07692ccf",
   "metadata": {},
   "outputs": [],
   "source": [
    "from scipy.sparse import csr_matrix\n",
    "\n",
    "places_sparse = csr_matrix(count_matrix)"
   ]
  },
  {
   "cell_type": "code",
   "execution_count": 36,
   "id": "5e898db4",
   "metadata": {},
   "outputs": [
    {
     "data": {
      "text/plain": [
       "<99x12 sparse matrix of type '<class 'numpy.int64'>'\n",
       "\twith 202 stored elements in Compressed Sparse Row format>"
      ]
     },
     "execution_count": 36,
     "metadata": {},
     "output_type": "execute_result"
    }
   ],
   "source": [
    "places_sparse"
   ]
  },
  {
   "cell_type": "code",
   "execution_count": 37,
   "id": "f1625a93",
   "metadata": {},
   "outputs": [],
   "source": [
    "from sklearn.feature_extraction.text import TfidfVectorizer\n",
    "tfidf = TfidfVectorizer()\n",
    "\n",
    "transformed = tfidf.fit_transform(df_final)"
   ]
  },
  {
   "cell_type": "code",
   "execution_count": 38,
   "id": "90a7b2f6",
   "metadata": {},
   "outputs": [
    {
     "data": {
      "text/plain": [
       "<99x174 sparse matrix of type '<class 'numpy.float64'>'\n",
       "\twith 419 stored elements in Compressed Sparse Row format>"
      ]
     },
     "execution_count": 38,
     "metadata": {},
     "output_type": "execute_result"
    }
   ],
   "source": [
    "transformed"
   ]
  },
  {
   "cell_type": "code",
   "execution_count": 39,
   "id": "4583b5ae",
   "metadata": {
    "scrolled": false
   },
   "outputs": [
    {
     "name": "stdout",
     "output_type": "stream",
     "text": [
      "  (0, 143)\t0.14694227090995546\n",
      "  (0, 171)\t0.44883345924934154\n",
      "  (0, 133)\t0.3131645868727926\n",
      "  (0, 41)\t0.3131645868727926\n",
      "  (0, 149)\t0.4965561727449693\n",
      "  (0, 154)\t0.5781386903196754\n",
      "  (1, 68)\t0.41712645455932856\n",
      "  (1, 159)\t0.3830912701672577\n",
      "  (1, 123)\t0.7072315788290724\n",
      "  (1, 143)\t0.17975308691918618\n",
      "  (1, 133)\t0.3830912701672577\n",
      "  (2, 146)\t0.47385490661904583\n",
      "  (2, 53)\t0.5344338472678778\n",
      "  (2, 83)\t0.5003175571250542\n",
      "  (2, 68)\t0.34357019587832033\n",
      "  (2, 143)\t0.14805535014028612\n",
      "  (2, 41)\t0.3155367905631574\n",
      "  (3, 51)\t0.6056363018185963\n",
      "  (3, 114)\t0.4926606643613469\n",
      "  (3, 59)\t0.6056363018185963\n",
      "  (3, 143)\t0.15393118472234354\n",
      "  (4, 23)\t0.5781386903196754\n",
      "  (4, 143)\t0.14694227090995546\n",
      "  (4, 171)\t0.44883345924934154\n",
      "  (4, 133)\t0.3131645868727926\n",
      "  :\t:\n",
      "  (93, 24)\t0.36602779643298183\n",
      "  (93, 5)\t0.3143767486215767\n",
      "  (93, 105)\t0.297748825200715\n",
      "  (93, 143)\t0.09303123372402122\n",
      "  (94, 54)\t0.5865811530375713\n",
      "  (94, 50)\t0.5865811530375713\n",
      "  (94, 134)\t0.5381615527287449\n",
      "  (94, 143)\t0.14908804434565875\n",
      "  (95, 52)\t0.4540155062648399\n",
      "  (95, 96)\t0.4540155062648399\n",
      "  (95, 95)\t0.4540155062648399\n",
      "  (95, 55)\t0.26777916047917616\n",
      "  (95, 161)\t0.41653859580920355\n",
      "  (95, 114)\t0.3693232725236902\n",
      "  (96, 42)\t0.8503150735035815\n",
      "  (96, 65)\t0.4798504980924071\n",
      "  (96, 143)\t0.21611981689115767\n",
      "  (97, 119)\t0.6122989555591969\n",
      "  (97, 82)\t0.6122989555591969\n",
      "  (97, 44)\t0.4753535145112574\n",
      "  (97, 143)\t0.1556245940847047\n",
      "  (98, 173)\t0.5821659378689585\n",
      "  (98, 30)\t0.5821659378689585\n",
      "  (98, 55)\t0.3433625150485187\n",
      "  (98, 171)\t0.4519599814473261\n"
     ]
    }
   ],
   "source": [
    "print(transformed)"
   ]
  },
  {
   "cell_type": "code",
   "execution_count": 40,
   "id": "f4973a77",
   "metadata": {},
   "outputs": [
    {
     "data": {
      "text/plain": [
       "sklearn.feature_extraction.text.TfidfVectorizer"
      ]
     },
     "execution_count": 40,
     "metadata": {},
     "output_type": "execute_result"
    }
   ],
   "source": [
    "type(tfidf)"
   ]
  },
  {
   "cell_type": "code",
   "execution_count": 41,
   "id": "cb8f7dcb",
   "metadata": {},
   "outputs": [],
   "source": [
    "from sklearn.metrics.pairwise import cosine_similarity\n",
    "similarity = cosine_similarity(transformed)"
   ]
  },
  {
   "cell_type": "code",
   "execution_count": 42,
   "id": "488b876c",
   "metadata": {},
   "outputs": [
    {
     "name": "stdout",
     "output_type": "stream",
     "text": [
      "[[1.         0.14638395 0.12057054 ... 0.03175714 0.02286783 0.20285476]\n",
      " [0.14638395 1.         0.16992562 ... 0.0388482  0.027974   0.        ]\n",
      " [0.12057054 0.16992562 1.         ... 0.0319977  0.02304105 0.        ]\n",
      " ...\n",
      " [0.03175714 0.0388482  0.0319977  ... 1.         0.03363356 0.        ]\n",
      " [0.02286783 0.027974   0.02304105 ... 0.03363356 1.         0.        ]\n",
      " [0.20285476 0.         0.         ... 0.         0.         1.        ]]\n"
     ]
    }
   ],
   "source": [
    "print(similarity)"
   ]
  },
  {
   "cell_type": "code",
   "execution_count": 43,
   "id": "d5b9814e",
   "metadata": {
    "scrolled": true
   },
   "outputs": [
    {
     "name": "stdout",
     "output_type": "stream",
     "text": [
      "(99, 99)\n"
     ]
    }
   ],
   "source": [
    "print(similarity.shape)"
   ]
  },
  {
   "cell_type": "code",
   "execution_count": 44,
   "id": "130d7f02",
   "metadata": {},
   "outputs": [
    {
     "name": "stdout",
     "output_type": "stream",
     "text": [
      "Enter your place you would love to visit :Anantalingeshwar Mahadev Temple\n"
     ]
    }
   ],
   "source": [
    "# Getting the neame of place from user\n",
    "\n",
    "place_name = input('Enter your place you would love to visit :')"
   ]
  },
  {
   "cell_type": "code",
   "execution_count": 45,
   "id": "55a3659e",
   "metadata": {},
   "outputs": [
    {
     "data": {
      "text/plain": [
       "str"
      ]
     },
     "execution_count": 45,
     "metadata": {},
     "output_type": "execute_result"
    }
   ],
   "source": [
    "type(place_name)"
   ]
  },
  {
   "cell_type": "code",
   "execution_count": 46,
   "id": "e0be4922",
   "metadata": {},
   "outputs": [
    {
     "name": "stdout",
     "output_type": "stream",
     "text": [
      "['Swyambunath Stupa', 'Pashupatinath Temple', 'Kathmandu Durbar Square', 'Garden of Dreams', 'Boudhanath Stupa', 'Kumari Bahal', 'Kopan Monastery', 'Narayanhiti Palace', 'Budhanilkantha Temple', 'Asan Tole', 'White Monastery', 'Dharahara', 'Hanuman Dhoka', 'Taudaha Lake', 'Siddhartha Art Gallery', 'Pulchoki', 'The Last Resort', 'Thamel', 'Bhundole', 'Dakshinkali Temple', 'Patan', 'Indra Chowk', 'Kala Bhairav', 'Jagannath Temple', 'National Museum of Nepal', 'Vajrayogini Temple', 'Taleju Temple', 'National Botanical Gardens', 'Akash Bhairav Temple', 'Seto Machindranath Temple', 'Tribhuvan Museum', 'Shiva-Parvati Temple', 'Kaiser Library', 'Stone Inscription', 'Casino Royale', 'Annapurna Temple', 'Chhauni Museum', 'Chabahil Stupa', 'Freak Street', 'chandragiri', 'Kathmandu Fun Park', 'Nagarkot', 'Dhulikhel', 'Chobhar Danda', 'Pharping', 'Namo Buddha', 'JarsingPauwa', 'Lakuri Bhanjyang', 'Jump KTM', 'Art in Paradise Nepal', 'Whoopee Land', 'Astrek Park', 'Kathmandu Sports and Climbing Centre', 'House of Palettes', 'Outdoor Adventure Centre Nepal', 'Sundarijal', '55 window palace', 'Bhaktapur Durbar Square', 'Taumadhi Square', 'Changunarayan Temple', 'Doleshwar Mahadev Temple', 'Thimi', 'Dattatraya and Pottery Square', 'Pilot Baba Ashram', 'Kailashnath Temple', 'Ranikot', 'Trishul Danda', 'Ghyampe Danda', 'Latarambeshwar', 'Subarneshwar Mahadev Temple', 'Anantalingeshwar Mahadev Temple', 'kalamasi', 'Nil Barahi Temple', 'Gundu', 'Mahamanjushree Temple', 'Godavari', 'Shivapuri', 'Marble Danda', 'Kakani', 'Muchkund Cave', 'Chisapani', 'Champadevi', 'Panch Pokhari', 'White House', 'Bishnudwar', 'Jamacho', 'Tarebhir', 'Shivapuri National Park', 'Sukute Beach', 'Single Tree Hill', 'Bagh Bhairav Temple', 'Nagar Mandap Shri Kirti Bihar', 'Tinthana Suspension Bridge', '\\xa0BP Koirala Memorial Planetarium Observatory and Science Museum', 'Dreamland Eco Resort', 'LOD - Lord Of The Drinks', 'Dadagaun', 'Kalu Pandey Danda', 'Central Zoo']\n"
     ]
    }
   ],
   "source": [
    "#  Creating the list of all the places\n",
    "\n",
    "places_list = df['Places'].tolist()\n",
    "print(places_list)"
   ]
  },
  {
   "cell_type": "code",
   "execution_count": 47,
   "id": "c3cc7cdf",
   "metadata": {},
   "outputs": [
    {
     "data": {
      "text/plain": [
       "list"
      ]
     },
     "execution_count": 47,
     "metadata": {},
     "output_type": "execute_result"
    }
   ],
   "source": [
    "type(places_list)"
   ]
  },
  {
   "cell_type": "code",
   "execution_count": 48,
   "id": "d11aaf67",
   "metadata": {},
   "outputs": [],
   "source": [
    "# Finding the closest match for the place\n",
    "\n",
    "import difflib\n",
    "from difflib import get_close_matches  "
   ]
  },
  {
   "cell_type": "code",
   "execution_count": 49,
   "id": "88b7cbbb",
   "metadata": {
    "scrolled": true
   },
   "outputs": [
    {
     "name": "stdout",
     "output_type": "stream",
     "text": [
      "['Anantalingeshwar Mahadev Temple', 'Doleshwar Mahadev Temple', 'Subarneshwar Mahadev Temple']\n"
     ]
    }
   ],
   "source": [
    "close_match = difflib.get_close_matches(place_name, places_list)\n",
    "print(close_match)"
   ]
  },
  {
   "cell_type": "code",
   "execution_count": null,
   "id": "2f23967b",
   "metadata": {},
   "outputs": [],
   "source": []
  },
  {
   "cell_type": "code",
   "execution_count": null,
   "id": "775b9be0",
   "metadata": {},
   "outputs": [],
   "source": []
  }
 ],
 "metadata": {
  "kernelspec": {
   "display_name": "Python 3 (ipykernel)",
   "language": "python",
   "name": "python3"
  },
  "language_info": {
   "codemirror_mode": {
    "name": "ipython",
    "version": 3
   },
   "file_extension": ".py",
   "mimetype": "text/x-python",
   "name": "python",
   "nbconvert_exporter": "python",
   "pygments_lexer": "ipython3",
   "version": "3.9.12"
  }
 },
 "nbformat": 4,
 "nbformat_minor": 5
}
